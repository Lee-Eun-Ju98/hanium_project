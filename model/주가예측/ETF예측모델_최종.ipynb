{
  "nbformat": 4,
  "nbformat_minor": 0,
  "metadata": {
    "colab": {
      "name": "ETF예측모델 최종.ipynb",
      "provenance": [],
      "collapsed_sections": []
    },
    "kernelspec": {
      "name": "python3",
      "display_name": "Python 3"
    },
    "language_info": {
      "name": "python"
    }
  },
  "cells": [
    {
      "cell_type": "code",
      "metadata": {
        "id": "YOElv8xi3i-k"
      },
      "source": [
        "import pandas as pd\n",
        "import numpy as np\n",
        "import matplotlib.pyplot as plt\n",
        "import seaborn as sns\n",
        "import warnings\n",
        "import os\n",
        "\n",
        "%matplotlib inline\n",
        "warnings.filterwarnings('ignore')\n",
        "\n",
        "plt.rcParams['font.family'] = 'NanumGothic'"
      ],
      "execution_count": 1,
      "outputs": []
    },
    {
      "cell_type": "code",
      "metadata": {
        "colab": {
          "base_uri": "https://localhost:8080/"
        },
        "id": "OhB8fq4S3j41",
        "outputId": "ee7396c0-dcde-417f-c3c1-978440800e5f"
      },
      "source": [
        "!pip install finance-datareader"
      ],
      "execution_count": 2,
      "outputs": [
        {
          "output_type": "stream",
          "text": [
            "Collecting finance-datareader\n",
            "  Downloading finance_datareader-0.9.31-py3-none-any.whl (17 kB)\n",
            "Requirement already satisfied: pandas>=0.19.2 in /usr/local/lib/python3.7/dist-packages (from finance-datareader) (1.1.5)\n",
            "Requirement already satisfied: requests>=2.3.0 in /usr/local/lib/python3.7/dist-packages (from finance-datareader) (2.23.0)\n",
            "Collecting requests-file\n",
            "  Downloading requests_file-1.5.1-py2.py3-none-any.whl (3.7 kB)\n",
            "Requirement already satisfied: tqdm in /usr/local/lib/python3.7/dist-packages (from finance-datareader) (4.62.0)\n",
            "Requirement already satisfied: lxml in /usr/local/lib/python3.7/dist-packages (from finance-datareader) (4.2.6)\n",
            "Requirement already satisfied: numpy>=1.15.4 in /usr/local/lib/python3.7/dist-packages (from pandas>=0.19.2->finance-datareader) (1.19.5)\n",
            "Requirement already satisfied: python-dateutil>=2.7.3 in /usr/local/lib/python3.7/dist-packages (from pandas>=0.19.2->finance-datareader) (2.8.2)\n",
            "Requirement already satisfied: pytz>=2017.2 in /usr/local/lib/python3.7/dist-packages (from pandas>=0.19.2->finance-datareader) (2018.9)\n",
            "Requirement already satisfied: six>=1.5 in /usr/local/lib/python3.7/dist-packages (from python-dateutil>=2.7.3->pandas>=0.19.2->finance-datareader) (1.15.0)\n",
            "Requirement already satisfied: idna<3,>=2.5 in /usr/local/lib/python3.7/dist-packages (from requests>=2.3.0->finance-datareader) (2.10)\n",
            "Requirement already satisfied: certifi>=2017.4.17 in /usr/local/lib/python3.7/dist-packages (from requests>=2.3.0->finance-datareader) (2021.5.30)\n",
            "Requirement already satisfied: urllib3!=1.25.0,!=1.25.1,<1.26,>=1.21.1 in /usr/local/lib/python3.7/dist-packages (from requests>=2.3.0->finance-datareader) (1.24.3)\n",
            "Requirement already satisfied: chardet<4,>=3.0.2 in /usr/local/lib/python3.7/dist-packages (from requests>=2.3.0->finance-datareader) (3.0.4)\n",
            "Installing collected packages: requests-file, finance-datareader\n",
            "Successfully installed finance-datareader-0.9.31 requests-file-1.5.1\n"
          ],
          "name": "stdout"
        }
      ]
    },
    {
      "cell_type": "code",
      "metadata": {
        "id": "rXB50Mp73j8z"
      },
      "source": [
        "import FinanceDataReader as fdr"
      ],
      "execution_count": 3,
      "outputs": []
    },
    {
      "cell_type": "code",
      "metadata": {
        "id": "sypnEdVo3kBd"
      },
      "source": [
        "STOCK_CODE = '305720'#2차전지 \n",
        "\n",
        "stock= fdr.DataReader(STOCK_CODE, '2020-05-03', '2021-08-06')\n",
        "stock.reset_index(inplace = True)\n",
        "#fdr.DataReader('F', '1980-01-01', '2019-12-30')"
      ],
      "execution_count": 4,
      "outputs": []
    },
    {
      "cell_type": "code",
      "metadata": {
        "colab": {
          "base_uri": "https://localhost:8080/",
          "height": 202
        },
        "id": "22uCZ4jkl4iq",
        "outputId": "a43b5205-8526-4f20-852a-09b0ee7ee203"
      },
      "source": [
        "point=pd.read_csv('/content/drive/MyDrive/ETF/감성지수/2차전지 형태소.csv')\n",
        "nlp_point = point[['2차전지 크롤링 결과', 'point']]\n",
        "nlp_point['2차전지 크롤링 결과'] = nlp_point['2차전지 크롤링 결과'].str.replace('.', '-')\n",
        "nlp_point.head()"
      ],
      "execution_count": 5,
      "outputs": [
        {
          "output_type": "execute_result",
          "data": {
            "text/html": [
              "<div>\n",
              "<style scoped>\n",
              "    .dataframe tbody tr th:only-of-type {\n",
              "        vertical-align: middle;\n",
              "    }\n",
              "\n",
              "    .dataframe tbody tr th {\n",
              "        vertical-align: top;\n",
              "    }\n",
              "\n",
              "    .dataframe thead th {\n",
              "        text-align: right;\n",
              "    }\n",
              "</style>\n",
              "<table border=\"1\" class=\"dataframe\">\n",
              "  <thead>\n",
              "    <tr style=\"text-align: right;\">\n",
              "      <th></th>\n",
              "      <th>2차전지 크롤링 결과</th>\n",
              "      <th>point</th>\n",
              "    </tr>\n",
              "  </thead>\n",
              "  <tbody>\n",
              "    <tr>\n",
              "      <th>0</th>\n",
              "      <td>2021-08-06</td>\n",
              "      <td>34</td>\n",
              "    </tr>\n",
              "    <tr>\n",
              "      <th>1</th>\n",
              "      <td>2021-08-06</td>\n",
              "      <td>19</td>\n",
              "    </tr>\n",
              "    <tr>\n",
              "      <th>2</th>\n",
              "      <td>2021-08-06</td>\n",
              "      <td>19</td>\n",
              "    </tr>\n",
              "    <tr>\n",
              "      <th>3</th>\n",
              "      <td>2021-08-05</td>\n",
              "      <td>14</td>\n",
              "    </tr>\n",
              "    <tr>\n",
              "      <th>4</th>\n",
              "      <td>2021-08-04</td>\n",
              "      <td>14</td>\n",
              "    </tr>\n",
              "  </tbody>\n",
              "</table>\n",
              "</div>"
            ],
            "text/plain": [
              "   2차전지 크롤링 결과  point\n",
              "0   2021-08-06     34\n",
              "1   2021-08-06     19\n",
              "2   2021-08-06     19\n",
              "3   2021-08-05     14\n",
              "4   2021-08-04     14"
            ]
          },
          "metadata": {},
          "execution_count": 5
        }
      ]
    },
    {
      "cell_type": "code",
      "metadata": {
        "colab": {
          "base_uri": "https://localhost:8080/",
          "height": 414
        },
        "id": "6UWDgn1AmjWT",
        "outputId": "72d32f51-e17c-43a7-9f21-350652219819"
      },
      "source": [
        "stock_point=nlp_point.groupby('2차전지 크롤링 결과').mean()\n",
        "stock_point.reset_index(inplace = True)\n",
        "stock_point.rename(columns = {'2차전지 크롤링 결과' : 'Date'},inplace = True )\n",
        "stock_point['Date'] = pd.to_datetime( stock_point['Date'])\n",
        "stock_point"
      ],
      "execution_count": 6,
      "outputs": [
        {
          "output_type": "execute_result",
          "data": {
            "text/html": [
              "<div>\n",
              "<style scoped>\n",
              "    .dataframe tbody tr th:only-of-type {\n",
              "        vertical-align: middle;\n",
              "    }\n",
              "\n",
              "    .dataframe tbody tr th {\n",
              "        vertical-align: top;\n",
              "    }\n",
              "\n",
              "    .dataframe thead th {\n",
              "        text-align: right;\n",
              "    }\n",
              "</style>\n",
              "<table border=\"1\" class=\"dataframe\">\n",
              "  <thead>\n",
              "    <tr style=\"text-align: right;\">\n",
              "      <th></th>\n",
              "      <th>Date</th>\n",
              "      <th>point</th>\n",
              "    </tr>\n",
              "  </thead>\n",
              "  <tbody>\n",
              "    <tr>\n",
              "      <th>0</th>\n",
              "      <td>2020-05-03</td>\n",
              "      <td>25.333333</td>\n",
              "    </tr>\n",
              "    <tr>\n",
              "      <th>1</th>\n",
              "      <td>2020-05-06</td>\n",
              "      <td>10.333333</td>\n",
              "    </tr>\n",
              "    <tr>\n",
              "      <th>2</th>\n",
              "      <td>2020-05-07</td>\n",
              "      <td>0.000000</td>\n",
              "    </tr>\n",
              "    <tr>\n",
              "      <th>3</th>\n",
              "      <td>2020-05-08</td>\n",
              "      <td>-2.500000</td>\n",
              "    </tr>\n",
              "    <tr>\n",
              "      <th>4</th>\n",
              "      <td>2020-05-11</td>\n",
              "      <td>8.000000</td>\n",
              "    </tr>\n",
              "    <tr>\n",
              "      <th>...</th>\n",
              "      <td>...</td>\n",
              "      <td>...</td>\n",
              "    </tr>\n",
              "    <tr>\n",
              "      <th>347</th>\n",
              "      <td>2021-08-02</td>\n",
              "      <td>27.000000</td>\n",
              "    </tr>\n",
              "    <tr>\n",
              "      <th>348</th>\n",
              "      <td>2021-08-03</td>\n",
              "      <td>30.500000</td>\n",
              "    </tr>\n",
              "    <tr>\n",
              "      <th>349</th>\n",
              "      <td>2021-08-04</td>\n",
              "      <td>14.000000</td>\n",
              "    </tr>\n",
              "    <tr>\n",
              "      <th>350</th>\n",
              "      <td>2021-08-05</td>\n",
              "      <td>14.000000</td>\n",
              "    </tr>\n",
              "    <tr>\n",
              "      <th>351</th>\n",
              "      <td>2021-08-06</td>\n",
              "      <td>24.000000</td>\n",
              "    </tr>\n",
              "  </tbody>\n",
              "</table>\n",
              "<p>352 rows × 2 columns</p>\n",
              "</div>"
            ],
            "text/plain": [
              "          Date      point\n",
              "0   2020-05-03  25.333333\n",
              "1   2020-05-06  10.333333\n",
              "2   2020-05-07   0.000000\n",
              "3   2020-05-08  -2.500000\n",
              "4   2020-05-11   8.000000\n",
              "..         ...        ...\n",
              "347 2021-08-02  27.000000\n",
              "348 2021-08-03  30.500000\n",
              "349 2021-08-04  14.000000\n",
              "350 2021-08-05  14.000000\n",
              "351 2021-08-06  24.000000\n",
              "\n",
              "[352 rows x 2 columns]"
            ]
          },
          "metadata": {},
          "execution_count": 6
        }
      ]
    },
    {
      "cell_type": "code",
      "metadata": {
        "colab": {
          "base_uri": "https://localhost:8080/",
          "height": 202
        },
        "id": "GzUCC_wo3kEy",
        "outputId": "6c4471e6-9670-4307-b7b6-6ba89a8639ef"
      },
      "source": [
        "stock.head()"
      ],
      "execution_count": 7,
      "outputs": [
        {
          "output_type": "execute_result",
          "data": {
            "text/html": [
              "<div>\n",
              "<style scoped>\n",
              "    .dataframe tbody tr th:only-of-type {\n",
              "        vertical-align: middle;\n",
              "    }\n",
              "\n",
              "    .dataframe tbody tr th {\n",
              "        vertical-align: top;\n",
              "    }\n",
              "\n",
              "    .dataframe thead th {\n",
              "        text-align: right;\n",
              "    }\n",
              "</style>\n",
              "<table border=\"1\" class=\"dataframe\">\n",
              "  <thead>\n",
              "    <tr style=\"text-align: right;\">\n",
              "      <th></th>\n",
              "      <th>Date</th>\n",
              "      <th>Open</th>\n",
              "      <th>High</th>\n",
              "      <th>Low</th>\n",
              "      <th>Close</th>\n",
              "      <th>Volume</th>\n",
              "      <th>Change</th>\n",
              "    </tr>\n",
              "  </thead>\n",
              "  <tbody>\n",
              "    <tr>\n",
              "      <th>0</th>\n",
              "      <td>2020-05-04</td>\n",
              "      <td>7257</td>\n",
              "      <td>7372</td>\n",
              "      <td>7247</td>\n",
              "      <td>7297</td>\n",
              "      <td>113590</td>\n",
              "      <td>-0.021456</td>\n",
              "    </tr>\n",
              "    <tr>\n",
              "      <th>1</th>\n",
              "      <td>2020-05-06</td>\n",
              "      <td>7432</td>\n",
              "      <td>7432</td>\n",
              "      <td>7317</td>\n",
              "      <td>7397</td>\n",
              "      <td>139138</td>\n",
              "      <td>0.013704</td>\n",
              "    </tr>\n",
              "    <tr>\n",
              "      <th>2</th>\n",
              "      <td>2020-05-07</td>\n",
              "      <td>7387</td>\n",
              "      <td>7427</td>\n",
              "      <td>7337</td>\n",
              "      <td>7377</td>\n",
              "      <td>95901</td>\n",
              "      <td>-0.002704</td>\n",
              "    </tr>\n",
              "    <tr>\n",
              "      <th>3</th>\n",
              "      <td>2020-05-08</td>\n",
              "      <td>7402</td>\n",
              "      <td>7501</td>\n",
              "      <td>7402</td>\n",
              "      <td>7457</td>\n",
              "      <td>102475</td>\n",
              "      <td>0.010845</td>\n",
              "    </tr>\n",
              "    <tr>\n",
              "      <th>4</th>\n",
              "      <td>2020-05-11</td>\n",
              "      <td>7481</td>\n",
              "      <td>7506</td>\n",
              "      <td>7357</td>\n",
              "      <td>7382</td>\n",
              "      <td>121645</td>\n",
              "      <td>-0.010058</td>\n",
              "    </tr>\n",
              "  </tbody>\n",
              "</table>\n",
              "</div>"
            ],
            "text/plain": [
              "        Date  Open  High   Low  Close  Volume    Change\n",
              "0 2020-05-04  7257  7372  7247   7297  113590 -0.021456\n",
              "1 2020-05-06  7432  7432  7317   7397  139138  0.013704\n",
              "2 2020-05-07  7387  7427  7337   7377   95901 -0.002704\n",
              "3 2020-05-08  7402  7501  7402   7457  102475  0.010845\n",
              "4 2020-05-11  7481  7506  7357   7382  121645 -0.010058"
            ]
          },
          "metadata": {},
          "execution_count": 7
        }
      ]
    },
    {
      "cell_type": "code",
      "metadata": {
        "colab": {
          "base_uri": "https://localhost:8080/",
          "height": 414
        },
        "id": "N6F79cN9pMbA",
        "outputId": "bb3bde15-258c-413e-d734-4500d83fce73"
      },
      "source": [
        "stock=pd.merge(stock, stock_point, on ='Date', how ='left' )\n",
        "stock"
      ],
      "execution_count": 8,
      "outputs": [
        {
          "output_type": "execute_result",
          "data": {
            "text/html": [
              "<div>\n",
              "<style scoped>\n",
              "    .dataframe tbody tr th:only-of-type {\n",
              "        vertical-align: middle;\n",
              "    }\n",
              "\n",
              "    .dataframe tbody tr th {\n",
              "        vertical-align: top;\n",
              "    }\n",
              "\n",
              "    .dataframe thead th {\n",
              "        text-align: right;\n",
              "    }\n",
              "</style>\n",
              "<table border=\"1\" class=\"dataframe\">\n",
              "  <thead>\n",
              "    <tr style=\"text-align: right;\">\n",
              "      <th></th>\n",
              "      <th>Date</th>\n",
              "      <th>Open</th>\n",
              "      <th>High</th>\n",
              "      <th>Low</th>\n",
              "      <th>Close</th>\n",
              "      <th>Volume</th>\n",
              "      <th>Change</th>\n",
              "      <th>point</th>\n",
              "    </tr>\n",
              "  </thead>\n",
              "  <tbody>\n",
              "    <tr>\n",
              "      <th>0</th>\n",
              "      <td>2020-05-04</td>\n",
              "      <td>7257</td>\n",
              "      <td>7372</td>\n",
              "      <td>7247</td>\n",
              "      <td>7297</td>\n",
              "      <td>113590</td>\n",
              "      <td>-0.021456</td>\n",
              "      <td>NaN</td>\n",
              "    </tr>\n",
              "    <tr>\n",
              "      <th>1</th>\n",
              "      <td>2020-05-06</td>\n",
              "      <td>7432</td>\n",
              "      <td>7432</td>\n",
              "      <td>7317</td>\n",
              "      <td>7397</td>\n",
              "      <td>139138</td>\n",
              "      <td>0.013704</td>\n",
              "      <td>10.333333</td>\n",
              "    </tr>\n",
              "    <tr>\n",
              "      <th>2</th>\n",
              "      <td>2020-05-07</td>\n",
              "      <td>7387</td>\n",
              "      <td>7427</td>\n",
              "      <td>7337</td>\n",
              "      <td>7377</td>\n",
              "      <td>95901</td>\n",
              "      <td>-0.002704</td>\n",
              "      <td>0.000000</td>\n",
              "    </tr>\n",
              "    <tr>\n",
              "      <th>3</th>\n",
              "      <td>2020-05-08</td>\n",
              "      <td>7402</td>\n",
              "      <td>7501</td>\n",
              "      <td>7402</td>\n",
              "      <td>7457</td>\n",
              "      <td>102475</td>\n",
              "      <td>0.010845</td>\n",
              "      <td>-2.500000</td>\n",
              "    </tr>\n",
              "    <tr>\n",
              "      <th>4</th>\n",
              "      <td>2020-05-11</td>\n",
              "      <td>7481</td>\n",
              "      <td>7506</td>\n",
              "      <td>7357</td>\n",
              "      <td>7382</td>\n",
              "      <td>121645</td>\n",
              "      <td>-0.010058</td>\n",
              "      <td>8.000000</td>\n",
              "    </tr>\n",
              "    <tr>\n",
              "      <th>...</th>\n",
              "      <td>...</td>\n",
              "      <td>...</td>\n",
              "      <td>...</td>\n",
              "      <td>...</td>\n",
              "      <td>...</td>\n",
              "      <td>...</td>\n",
              "      <td>...</td>\n",
              "      <td>...</td>\n",
              "    </tr>\n",
              "    <tr>\n",
              "      <th>311</th>\n",
              "      <td>2021-08-02</td>\n",
              "      <td>20895</td>\n",
              "      <td>21015</td>\n",
              "      <td>20610</td>\n",
              "      <td>21015</td>\n",
              "      <td>1057597</td>\n",
              "      <td>0.005743</td>\n",
              "      <td>27.000000</td>\n",
              "    </tr>\n",
              "    <tr>\n",
              "      <th>312</th>\n",
              "      <td>2021-08-03</td>\n",
              "      <td>21060</td>\n",
              "      <td>21215</td>\n",
              "      <td>20745</td>\n",
              "      <td>20780</td>\n",
              "      <td>1552245</td>\n",
              "      <td>-0.011182</td>\n",
              "      <td>30.500000</td>\n",
              "    </tr>\n",
              "    <tr>\n",
              "      <th>313</th>\n",
              "      <td>2021-08-04</td>\n",
              "      <td>20780</td>\n",
              "      <td>20785</td>\n",
              "      <td>20245</td>\n",
              "      <td>20685</td>\n",
              "      <td>2096788</td>\n",
              "      <td>-0.004572</td>\n",
              "      <td>14.000000</td>\n",
              "    </tr>\n",
              "    <tr>\n",
              "      <th>314</th>\n",
              "      <td>2021-08-05</td>\n",
              "      <td>20645</td>\n",
              "      <td>21020</td>\n",
              "      <td>20570</td>\n",
              "      <td>20975</td>\n",
              "      <td>1241106</td>\n",
              "      <td>0.014020</td>\n",
              "      <td>14.000000</td>\n",
              "    </tr>\n",
              "    <tr>\n",
              "      <th>315</th>\n",
              "      <td>2021-08-06</td>\n",
              "      <td>21085</td>\n",
              "      <td>21180</td>\n",
              "      <td>20935</td>\n",
              "      <td>20970</td>\n",
              "      <td>1038152</td>\n",
              "      <td>-0.000238</td>\n",
              "      <td>24.000000</td>\n",
              "    </tr>\n",
              "  </tbody>\n",
              "</table>\n",
              "<p>316 rows × 8 columns</p>\n",
              "</div>"
            ],
            "text/plain": [
              "          Date   Open   High    Low  Close   Volume    Change      point\n",
              "0   2020-05-04   7257   7372   7247   7297   113590 -0.021456        NaN\n",
              "1   2020-05-06   7432   7432   7317   7397   139138  0.013704  10.333333\n",
              "2   2020-05-07   7387   7427   7337   7377    95901 -0.002704   0.000000\n",
              "3   2020-05-08   7402   7501   7402   7457   102475  0.010845  -2.500000\n",
              "4   2020-05-11   7481   7506   7357   7382   121645 -0.010058   8.000000\n",
              "..         ...    ...    ...    ...    ...      ...       ...        ...\n",
              "311 2021-08-02  20895  21015  20610  21015  1057597  0.005743  27.000000\n",
              "312 2021-08-03  21060  21215  20745  20780  1552245 -0.011182  30.500000\n",
              "313 2021-08-04  20780  20785  20245  20685  2096788 -0.004572  14.000000\n",
              "314 2021-08-05  20645  21020  20570  20975  1241106  0.014020  14.000000\n",
              "315 2021-08-06  21085  21180  20935  20970  1038152 -0.000238  24.000000\n",
              "\n",
              "[316 rows x 8 columns]"
            ]
          },
          "metadata": {},
          "execution_count": 8
        }
      ]
    },
    {
      "cell_type": "code",
      "metadata": {
        "colab": {
          "base_uri": "https://localhost:8080/"
        },
        "id": "uFAr7MawsLpD",
        "outputId": "9fd4a9bb-dc6d-4a93-fc33-e7549b3a505e"
      },
      "source": [
        "stock.info()"
      ],
      "execution_count": 9,
      "outputs": [
        {
          "output_type": "stream",
          "text": [
            "<class 'pandas.core.frame.DataFrame'>\n",
            "Int64Index: 316 entries, 0 to 315\n",
            "Data columns (total 8 columns):\n",
            " #   Column  Non-Null Count  Dtype         \n",
            "---  ------  --------------  -----         \n",
            " 0   Date    316 non-null    datetime64[ns]\n",
            " 1   Open    316 non-null    int64         \n",
            " 2   High    316 non-null    int64         \n",
            " 3   Low     316 non-null    int64         \n",
            " 4   Close   316 non-null    int64         \n",
            " 5   Volume  316 non-null    int64         \n",
            " 6   Change  316 non-null    float64       \n",
            " 7   point   283 non-null    float64       \n",
            "dtypes: datetime64[ns](1), float64(2), int64(5)\n",
            "memory usage: 22.2 KB\n"
          ],
          "name": "stdout"
        }
      ]
    },
    {
      "cell_type": "code",
      "metadata": {
        "colab": {
          "base_uri": "https://localhost:8080/",
          "height": 414
        },
        "id": "0I9g8cMPsBA8",
        "outputId": "c0ee12e5-f836-4f48-b296-9a1aa15e7aa0"
      },
      "source": [
        "stock['point'] = stock['point'].fillna(method='ffill')\n",
        "stock"
      ],
      "execution_count": 10,
      "outputs": [
        {
          "output_type": "execute_result",
          "data": {
            "text/html": [
              "<div>\n",
              "<style scoped>\n",
              "    .dataframe tbody tr th:only-of-type {\n",
              "        vertical-align: middle;\n",
              "    }\n",
              "\n",
              "    .dataframe tbody tr th {\n",
              "        vertical-align: top;\n",
              "    }\n",
              "\n",
              "    .dataframe thead th {\n",
              "        text-align: right;\n",
              "    }\n",
              "</style>\n",
              "<table border=\"1\" class=\"dataframe\">\n",
              "  <thead>\n",
              "    <tr style=\"text-align: right;\">\n",
              "      <th></th>\n",
              "      <th>Date</th>\n",
              "      <th>Open</th>\n",
              "      <th>High</th>\n",
              "      <th>Low</th>\n",
              "      <th>Close</th>\n",
              "      <th>Volume</th>\n",
              "      <th>Change</th>\n",
              "      <th>point</th>\n",
              "    </tr>\n",
              "  </thead>\n",
              "  <tbody>\n",
              "    <tr>\n",
              "      <th>0</th>\n",
              "      <td>2020-05-04</td>\n",
              "      <td>7257</td>\n",
              "      <td>7372</td>\n",
              "      <td>7247</td>\n",
              "      <td>7297</td>\n",
              "      <td>113590</td>\n",
              "      <td>-0.021456</td>\n",
              "      <td>NaN</td>\n",
              "    </tr>\n",
              "    <tr>\n",
              "      <th>1</th>\n",
              "      <td>2020-05-06</td>\n",
              "      <td>7432</td>\n",
              "      <td>7432</td>\n",
              "      <td>7317</td>\n",
              "      <td>7397</td>\n",
              "      <td>139138</td>\n",
              "      <td>0.013704</td>\n",
              "      <td>10.333333</td>\n",
              "    </tr>\n",
              "    <tr>\n",
              "      <th>2</th>\n",
              "      <td>2020-05-07</td>\n",
              "      <td>7387</td>\n",
              "      <td>7427</td>\n",
              "      <td>7337</td>\n",
              "      <td>7377</td>\n",
              "      <td>95901</td>\n",
              "      <td>-0.002704</td>\n",
              "      <td>0.000000</td>\n",
              "    </tr>\n",
              "    <tr>\n",
              "      <th>3</th>\n",
              "      <td>2020-05-08</td>\n",
              "      <td>7402</td>\n",
              "      <td>7501</td>\n",
              "      <td>7402</td>\n",
              "      <td>7457</td>\n",
              "      <td>102475</td>\n",
              "      <td>0.010845</td>\n",
              "      <td>-2.500000</td>\n",
              "    </tr>\n",
              "    <tr>\n",
              "      <th>4</th>\n",
              "      <td>2020-05-11</td>\n",
              "      <td>7481</td>\n",
              "      <td>7506</td>\n",
              "      <td>7357</td>\n",
              "      <td>7382</td>\n",
              "      <td>121645</td>\n",
              "      <td>-0.010058</td>\n",
              "      <td>8.000000</td>\n",
              "    </tr>\n",
              "    <tr>\n",
              "      <th>...</th>\n",
              "      <td>...</td>\n",
              "      <td>...</td>\n",
              "      <td>...</td>\n",
              "      <td>...</td>\n",
              "      <td>...</td>\n",
              "      <td>...</td>\n",
              "      <td>...</td>\n",
              "      <td>...</td>\n",
              "    </tr>\n",
              "    <tr>\n",
              "      <th>311</th>\n",
              "      <td>2021-08-02</td>\n",
              "      <td>20895</td>\n",
              "      <td>21015</td>\n",
              "      <td>20610</td>\n",
              "      <td>21015</td>\n",
              "      <td>1057597</td>\n",
              "      <td>0.005743</td>\n",
              "      <td>27.000000</td>\n",
              "    </tr>\n",
              "    <tr>\n",
              "      <th>312</th>\n",
              "      <td>2021-08-03</td>\n",
              "      <td>21060</td>\n",
              "      <td>21215</td>\n",
              "      <td>20745</td>\n",
              "      <td>20780</td>\n",
              "      <td>1552245</td>\n",
              "      <td>-0.011182</td>\n",
              "      <td>30.500000</td>\n",
              "    </tr>\n",
              "    <tr>\n",
              "      <th>313</th>\n",
              "      <td>2021-08-04</td>\n",
              "      <td>20780</td>\n",
              "      <td>20785</td>\n",
              "      <td>20245</td>\n",
              "      <td>20685</td>\n",
              "      <td>2096788</td>\n",
              "      <td>-0.004572</td>\n",
              "      <td>14.000000</td>\n",
              "    </tr>\n",
              "    <tr>\n",
              "      <th>314</th>\n",
              "      <td>2021-08-05</td>\n",
              "      <td>20645</td>\n",
              "      <td>21020</td>\n",
              "      <td>20570</td>\n",
              "      <td>20975</td>\n",
              "      <td>1241106</td>\n",
              "      <td>0.014020</td>\n",
              "      <td>14.000000</td>\n",
              "    </tr>\n",
              "    <tr>\n",
              "      <th>315</th>\n",
              "      <td>2021-08-06</td>\n",
              "      <td>21085</td>\n",
              "      <td>21180</td>\n",
              "      <td>20935</td>\n",
              "      <td>20970</td>\n",
              "      <td>1038152</td>\n",
              "      <td>-0.000238</td>\n",
              "      <td>24.000000</td>\n",
              "    </tr>\n",
              "  </tbody>\n",
              "</table>\n",
              "<p>316 rows × 8 columns</p>\n",
              "</div>"
            ],
            "text/plain": [
              "          Date   Open   High    Low  Close   Volume    Change      point\n",
              "0   2020-05-04   7257   7372   7247   7297   113590 -0.021456        NaN\n",
              "1   2020-05-06   7432   7432   7317   7397   139138  0.013704  10.333333\n",
              "2   2020-05-07   7387   7427   7337   7377    95901 -0.002704   0.000000\n",
              "3   2020-05-08   7402   7501   7402   7457   102475  0.010845  -2.500000\n",
              "4   2020-05-11   7481   7506   7357   7382   121645 -0.010058   8.000000\n",
              "..         ...    ...    ...    ...    ...      ...       ...        ...\n",
              "311 2021-08-02  20895  21015  20610  21015  1057597  0.005743  27.000000\n",
              "312 2021-08-03  21060  21215  20745  20780  1552245 -0.011182  30.500000\n",
              "313 2021-08-04  20780  20785  20245  20685  2096788 -0.004572  14.000000\n",
              "314 2021-08-05  20645  21020  20570  20975  1241106  0.014020  14.000000\n",
              "315 2021-08-06  21085  21180  20935  20970  1038152 -0.000238  24.000000\n",
              "\n",
              "[316 rows x 8 columns]"
            ]
          },
          "metadata": {},
          "execution_count": 10
        }
      ]
    },
    {
      "cell_type": "code",
      "metadata": {
        "colab": {
          "base_uri": "https://localhost:8080/"
        },
        "id": "hCC_1vCeOGtR",
        "outputId": "325d8e09-a2c9-404b-dece-e1cf309eacfc"
      },
      "source": [
        "stock.info()"
      ],
      "execution_count": 11,
      "outputs": [
        {
          "output_type": "stream",
          "text": [
            "<class 'pandas.core.frame.DataFrame'>\n",
            "Int64Index: 316 entries, 0 to 315\n",
            "Data columns (total 8 columns):\n",
            " #   Column  Non-Null Count  Dtype         \n",
            "---  ------  --------------  -----         \n",
            " 0   Date    316 non-null    datetime64[ns]\n",
            " 1   Open    316 non-null    int64         \n",
            " 2   High    316 non-null    int64         \n",
            " 3   Low     316 non-null    int64         \n",
            " 4   Close   316 non-null    int64         \n",
            " 5   Volume  316 non-null    int64         \n",
            " 6   Change  316 non-null    float64       \n",
            " 7   point   315 non-null    float64       \n",
            "dtypes: datetime64[ns](1), float64(2), int64(5)\n",
            "memory usage: 22.2 KB\n"
          ],
          "name": "stdout"
        }
      ]
    },
    {
      "cell_type": "code",
      "metadata": {
        "id": "ld2hAFj-zpsm"
      },
      "source": [
        "stock['point'][stock['point']> 50] = 50\n",
        "stock['point'][stock['point']< -10] = -10"
      ],
      "execution_count": 12,
      "outputs": []
    },
    {
      "cell_type": "code",
      "metadata": {
        "colab": {
          "base_uri": "https://localhost:8080/"
        },
        "id": "iZjh6hsfsaY6",
        "outputId": "ee57c3d9-4170-4bf3-be90-784ae508d32e"
      },
      "source": [
        "stock.info()"
      ],
      "execution_count": 13,
      "outputs": [
        {
          "output_type": "stream",
          "text": [
            "<class 'pandas.core.frame.DataFrame'>\n",
            "Int64Index: 316 entries, 0 to 315\n",
            "Data columns (total 8 columns):\n",
            " #   Column  Non-Null Count  Dtype         \n",
            "---  ------  --------------  -----         \n",
            " 0   Date    316 non-null    datetime64[ns]\n",
            " 1   Open    316 non-null    int64         \n",
            " 2   High    316 non-null    int64         \n",
            " 3   Low     316 non-null    int64         \n",
            " 4   Close   316 non-null    int64         \n",
            " 5   Volume  316 non-null    int64         \n",
            " 6   Change  316 non-null    float64       \n",
            " 7   point   315 non-null    float64       \n",
            "dtypes: datetime64[ns](1), float64(2), int64(5)\n",
            "memory usage: 22.2 KB\n"
          ],
          "name": "stdout"
        }
      ]
    },
    {
      "cell_type": "code",
      "metadata": {
        "colab": {
          "base_uri": "https://localhost:8080/",
          "height": 202
        },
        "id": "dxJ0sfAqsdLz",
        "outputId": "4fce9a43-af2d-429d-b6e0-e9f69e483259"
      },
      "source": [
        "stock.iloc[0, 7] = 0\n",
        "stock.head()"
      ],
      "execution_count": 14,
      "outputs": [
        {
          "output_type": "execute_result",
          "data": {
            "text/html": [
              "<div>\n",
              "<style scoped>\n",
              "    .dataframe tbody tr th:only-of-type {\n",
              "        vertical-align: middle;\n",
              "    }\n",
              "\n",
              "    .dataframe tbody tr th {\n",
              "        vertical-align: top;\n",
              "    }\n",
              "\n",
              "    .dataframe thead th {\n",
              "        text-align: right;\n",
              "    }\n",
              "</style>\n",
              "<table border=\"1\" class=\"dataframe\">\n",
              "  <thead>\n",
              "    <tr style=\"text-align: right;\">\n",
              "      <th></th>\n",
              "      <th>Date</th>\n",
              "      <th>Open</th>\n",
              "      <th>High</th>\n",
              "      <th>Low</th>\n",
              "      <th>Close</th>\n",
              "      <th>Volume</th>\n",
              "      <th>Change</th>\n",
              "      <th>point</th>\n",
              "    </tr>\n",
              "  </thead>\n",
              "  <tbody>\n",
              "    <tr>\n",
              "      <th>0</th>\n",
              "      <td>2020-05-04</td>\n",
              "      <td>7257</td>\n",
              "      <td>7372</td>\n",
              "      <td>7247</td>\n",
              "      <td>7297</td>\n",
              "      <td>113590</td>\n",
              "      <td>-0.021456</td>\n",
              "      <td>0.000000</td>\n",
              "    </tr>\n",
              "    <tr>\n",
              "      <th>1</th>\n",
              "      <td>2020-05-06</td>\n",
              "      <td>7432</td>\n",
              "      <td>7432</td>\n",
              "      <td>7317</td>\n",
              "      <td>7397</td>\n",
              "      <td>139138</td>\n",
              "      <td>0.013704</td>\n",
              "      <td>10.333333</td>\n",
              "    </tr>\n",
              "    <tr>\n",
              "      <th>2</th>\n",
              "      <td>2020-05-07</td>\n",
              "      <td>7387</td>\n",
              "      <td>7427</td>\n",
              "      <td>7337</td>\n",
              "      <td>7377</td>\n",
              "      <td>95901</td>\n",
              "      <td>-0.002704</td>\n",
              "      <td>0.000000</td>\n",
              "    </tr>\n",
              "    <tr>\n",
              "      <th>3</th>\n",
              "      <td>2020-05-08</td>\n",
              "      <td>7402</td>\n",
              "      <td>7501</td>\n",
              "      <td>7402</td>\n",
              "      <td>7457</td>\n",
              "      <td>102475</td>\n",
              "      <td>0.010845</td>\n",
              "      <td>-2.500000</td>\n",
              "    </tr>\n",
              "    <tr>\n",
              "      <th>4</th>\n",
              "      <td>2020-05-11</td>\n",
              "      <td>7481</td>\n",
              "      <td>7506</td>\n",
              "      <td>7357</td>\n",
              "      <td>7382</td>\n",
              "      <td>121645</td>\n",
              "      <td>-0.010058</td>\n",
              "      <td>8.000000</td>\n",
              "    </tr>\n",
              "  </tbody>\n",
              "</table>\n",
              "</div>"
            ],
            "text/plain": [
              "        Date  Open  High   Low  Close  Volume    Change      point\n",
              "0 2020-05-04  7257  7372  7247   7297  113590 -0.021456   0.000000\n",
              "1 2020-05-06  7432  7432  7317   7397  139138  0.013704  10.333333\n",
              "2 2020-05-07  7387  7427  7337   7377   95901 -0.002704   0.000000\n",
              "3 2020-05-08  7402  7501  7402   7457  102475  0.010845  -2.500000\n",
              "4 2020-05-11  7481  7506  7357   7382  121645 -0.010058   8.000000"
            ]
          },
          "metadata": {},
          "execution_count": 14
        }
      ]
    },
    {
      "cell_type": "code",
      "metadata": {
        "colab": {
          "base_uri": "https://localhost:8080/",
          "height": 297
        },
        "id": "hiriiQ2w3kHe",
        "outputId": "e241185e-7f50-4c70-dd1f-6cecba90aa34"
      },
      "source": [
        "plt.figure(figsize=(16, 4))\n",
        "sns.lineplot(y=stock['Close'], x=stock.index)\n",
        "plt.xlabel('time')\n",
        "plt.ylabel('price')"
      ],
      "execution_count": 15,
      "outputs": [
        {
          "output_type": "execute_result",
          "data": {
            "text/plain": [
              "Text(0, 0.5, 'price')"
            ]
          },
          "metadata": {},
          "execution_count": 15
        },
        {
          "output_type": "stream",
          "text": [
            "findfont: Font family ['NanumGothic'] not found. Falling back to DejaVu Sans.\n"
          ],
          "name": "stderr"
        },
        {
          "output_type": "display_data",
          "data": {
            "image/png": "[encoded data removed]",
            "text/plain": [
              "<Figure size 1152x288 with 1 Axes>"
            ]
          },
          "metadata": {
            "needs_background": "light"
          }
        }
      ]
    },
    {
      "cell_type": "code",
      "metadata": {
        "colab": {
          "base_uri": "https://localhost:8080/",
          "height": 297
        },
        "id": "2RDMpr2DOYKw",
        "outputId": "69a047f0-bc12-484e-bfb4-6201af0e91bb"
      },
      "source": [
        "plt.figure(figsize=(16, 4))\n",
        "sns.lineplot(y=stock['point'], x=stock.index)\n",
        "plt.xlabel('time')\n",
        "plt.ylabel('price')"
      ],
      "execution_count": 16,
      "outputs": [
        {
          "output_type": "execute_result",
          "data": {
            "text/plain": [
              "Text(0, 0.5, 'price')"
            ]
          },
          "metadata": {},
          "execution_count": 16
        },
        {
          "output_type": "display_data",
          "data": {
            "image/png": "[encoded data removed]",
            "text/plain": [
              "<Figure size 1152x288 with 1 Axes>"
            ]
          },
          "metadata": {
            "needs_background": "light"
          }
        }
      ]
    },
    {
      "cell_type": "code",
      "metadata": {
        "colab": {
          "base_uri": "https://localhost:8080/",
          "height": 414
        },
        "id": "QpCR6_Nx5PXW",
        "outputId": "6cc76c36-c568-4e4d-860c-cad928107309"
      },
      "source": [
        "from sklearn.preprocessing import MinMaxScaler\n",
        "\n",
        "scaler = MinMaxScaler()\n",
        "# 스케일을 적용할 column을 정의합니다.\n",
        "scale_cols = ['Open', 'High', 'Low', 'Close', 'Volume','point']\n",
        "# 스케일 후 columns\n",
        "scaled = scaler.fit_transform(stock[scale_cols])\n",
        "\n",
        "df = pd.DataFrame(scaled, columns=scale_cols)\n",
        "df"
      ],
      "execution_count": 17,
      "outputs": [
        {
          "output_type": "execute_result",
          "data": {
            "text/html": [
              "<div>\n",
              "<style scoped>\n",
              "    .dataframe tbody tr th:only-of-type {\n",
              "        vertical-align: middle;\n",
              "    }\n",
              "\n",
              "    .dataframe tbody tr th {\n",
              "        vertical-align: top;\n",
              "    }\n",
              "\n",
              "    .dataframe thead th {\n",
              "        text-align: right;\n",
              "    }\n",
              "</style>\n",
              "<table border=\"1\" class=\"dataframe\">\n",
              "  <thead>\n",
              "    <tr style=\"text-align: right;\">\n",
              "      <th></th>\n",
              "      <th>Open</th>\n",
              "      <th>High</th>\n",
              "      <th>Low</th>\n",
              "      <th>Close</th>\n",
              "      <th>Volume</th>\n",
              "      <th>point</th>\n",
              "    </tr>\n",
              "  </thead>\n",
              "  <tbody>\n",
              "    <tr>\n",
              "      <th>0</th>\n",
              "      <td>0.008588</td>\n",
              "      <td>0.000722</td>\n",
              "      <td>0.008978</td>\n",
              "      <td>0.002466</td>\n",
              "      <td>0.001561</td>\n",
              "      <td>0.166667</td>\n",
              "    </tr>\n",
              "    <tr>\n",
              "      <th>1</th>\n",
              "      <td>0.021112</td>\n",
              "      <td>0.005053</td>\n",
              "      <td>0.014046</td>\n",
              "      <td>0.009719</td>\n",
              "      <td>0.003814</td>\n",
              "      <td>0.338889</td>\n",
              "    </tr>\n",
              "    <tr>\n",
              "      <th>2</th>\n",
              "      <td>0.017892</td>\n",
              "      <td>0.004692</td>\n",
              "      <td>0.015494</td>\n",
              "      <td>0.008269</td>\n",
              "      <td>0.000000</td>\n",
              "      <td>0.166667</td>\n",
              "    </tr>\n",
              "    <tr>\n",
              "      <th>3</th>\n",
              "      <td>0.018965</td>\n",
              "      <td>0.010034</td>\n",
              "      <td>0.020200</td>\n",
              "      <td>0.014071</td>\n",
              "      <td>0.000580</td>\n",
              "      <td>0.125000</td>\n",
              "    </tr>\n",
              "    <tr>\n",
              "      <th>4</th>\n",
              "      <td>0.024619</td>\n",
              "      <td>0.010395</td>\n",
              "      <td>0.016942</td>\n",
              "      <td>0.008631</td>\n",
              "      <td>0.002271</td>\n",
              "      <td>0.300000</td>\n",
              "    </tr>\n",
              "    <tr>\n",
              "      <th>...</th>\n",
              "      <td>...</td>\n",
              "      <td>...</td>\n",
              "      <td>...</td>\n",
              "      <td>...</td>\n",
              "      <td>...</td>\n",
              "      <td>...</td>\n",
              "    </tr>\n",
              "    <tr>\n",
              "      <th>311</th>\n",
              "      <td>0.984613</td>\n",
              "      <td>0.985563</td>\n",
              "      <td>0.976470</td>\n",
              "      <td>0.997461</td>\n",
              "      <td>0.084843</td>\n",
              "      <td>0.616667</td>\n",
              "    </tr>\n",
              "    <tr>\n",
              "      <th>312</th>\n",
              "      <td>0.996422</td>\n",
              "      <td>1.000000</td>\n",
              "      <td>0.986244</td>\n",
              "      <td>0.980416</td>\n",
              "      <td>0.128481</td>\n",
              "      <td>0.675000</td>\n",
              "    </tr>\n",
              "    <tr>\n",
              "      <th>313</th>\n",
              "      <td>0.976383</td>\n",
              "      <td>0.968960</td>\n",
              "      <td>0.950043</td>\n",
              "      <td>0.973526</td>\n",
              "      <td>0.176522</td>\n",
              "      <td>0.400000</td>\n",
              "    </tr>\n",
              "    <tr>\n",
              "      <th>314</th>\n",
              "      <td>0.966722</td>\n",
              "      <td>0.985924</td>\n",
              "      <td>0.973574</td>\n",
              "      <td>0.994560</td>\n",
              "      <td>0.101032</td>\n",
              "      <td>0.400000</td>\n",
              "    </tr>\n",
              "    <tr>\n",
              "      <th>315</th>\n",
              "      <td>0.998211</td>\n",
              "      <td>0.997473</td>\n",
              "      <td>1.000000</td>\n",
              "      <td>0.994197</td>\n",
              "      <td>0.083127</td>\n",
              "      <td>0.566667</td>\n",
              "    </tr>\n",
              "  </tbody>\n",
              "</table>\n",
              "<p>316 rows × 6 columns</p>\n",
              "</div>"
            ],
            "text/plain": [
              "         Open      High       Low     Close    Volume     point\n",
              "0    0.008588  0.000722  0.008978  0.002466  0.001561  0.166667\n",
              "1    0.021112  0.005053  0.014046  0.009719  0.003814  0.338889\n",
              "2    0.017892  0.004692  0.015494  0.008269  0.000000  0.166667\n",
              "3    0.018965  0.010034  0.020200  0.014071  0.000580  0.125000\n",
              "4    0.024619  0.010395  0.016942  0.008631  0.002271  0.300000\n",
              "..        ...       ...       ...       ...       ...       ...\n",
              "311  0.984613  0.985563  0.976470  0.997461  0.084843  0.616667\n",
              "312  0.996422  1.000000  0.986244  0.980416  0.128481  0.675000\n",
              "313  0.976383  0.968960  0.950043  0.973526  0.176522  0.400000\n",
              "314  0.966722  0.985924  0.973574  0.994560  0.101032  0.400000\n",
              "315  0.998211  0.997473  1.000000  0.994197  0.083127  0.566667\n",
              "\n",
              "[316 rows x 6 columns]"
            ]
          },
          "metadata": {},
          "execution_count": 17
        }
      ]
    },
    {
      "cell_type": "code",
      "metadata": {
        "id": "fO-wCL8Z5PcL"
      },
      "source": [
        "from sklearn.model_selection import train_test_split"
      ],
      "execution_count": 18,
      "outputs": []
    },
    {
      "cell_type": "code",
      "metadata": {
        "id": "n7oPNBBy5PZo"
      },
      "source": [
        "x_train, x_test, y_train, y_test = train_test_split(df.drop('Close', 1), df['Close'], test_size=0.30, random_state=0, shuffle=False)"
      ],
      "execution_count": 19,
      "outputs": []
    },
    {
      "cell_type": "code",
      "metadata": {
        "colab": {
          "base_uri": "https://localhost:8080/"
        },
        "id": "fedLz0K_5Pe4",
        "outputId": "278eb6e5-9a63-46dc-a9d1-d894b32ee4fa"
      },
      "source": [
        "x_train.shape, y_train.shape"
      ],
      "execution_count": 20,
      "outputs": [
        {
          "output_type": "execute_result",
          "data": {
            "text/plain": [
              "((221, 5), (221,))"
            ]
          },
          "metadata": {},
          "execution_count": 20
        }
      ]
    },
    {
      "cell_type": "code",
      "metadata": {
        "colab": {
          "base_uri": "https://localhost:8080/",
          "height": 414
        },
        "id": "gTPZWvIl6TMR",
        "outputId": "97b2514f-a09c-49e6-98d6-62db97a22f78"
      },
      "source": [
        "x_train"
      ],
      "execution_count": 21,
      "outputs": [
        {
          "output_type": "execute_result",
          "data": {
            "text/html": [
              "<div>\n",
              "<style scoped>\n",
              "    .dataframe tbody tr th:only-of-type {\n",
              "        vertical-align: middle;\n",
              "    }\n",
              "\n",
              "    .dataframe tbody tr th {\n",
              "        vertical-align: top;\n",
              "    }\n",
              "\n",
              "    .dataframe thead th {\n",
              "        text-align: right;\n",
              "    }\n",
              "</style>\n",
              "<table border=\"1\" class=\"dataframe\">\n",
              "  <thead>\n",
              "    <tr style=\"text-align: right;\">\n",
              "      <th></th>\n",
              "      <th>Open</th>\n",
              "      <th>High</th>\n",
              "      <th>Low</th>\n",
              "      <th>Volume</th>\n",
              "      <th>point</th>\n",
              "    </tr>\n",
              "  </thead>\n",
              "  <tbody>\n",
              "    <tr>\n",
              "      <th>0</th>\n",
              "      <td>0.008588</td>\n",
              "      <td>0.000722</td>\n",
              "      <td>0.008978</td>\n",
              "      <td>0.001561</td>\n",
              "      <td>0.166667</td>\n",
              "    </tr>\n",
              "    <tr>\n",
              "      <th>1</th>\n",
              "      <td>0.021112</td>\n",
              "      <td>0.005053</td>\n",
              "      <td>0.014046</td>\n",
              "      <td>0.003814</td>\n",
              "      <td>0.338889</td>\n",
              "    </tr>\n",
              "    <tr>\n",
              "      <th>2</th>\n",
              "      <td>0.017892</td>\n",
              "      <td>0.004692</td>\n",
              "      <td>0.015494</td>\n",
              "      <td>0.000000</td>\n",
              "      <td>0.166667</td>\n",
              "    </tr>\n",
              "    <tr>\n",
              "      <th>3</th>\n",
              "      <td>0.018965</td>\n",
              "      <td>0.010034</td>\n",
              "      <td>0.020200</td>\n",
              "      <td>0.000580</td>\n",
              "      <td>0.125000</td>\n",
              "    </tr>\n",
              "    <tr>\n",
              "      <th>4</th>\n",
              "      <td>0.024619</td>\n",
              "      <td>0.010395</td>\n",
              "      <td>0.016942</td>\n",
              "      <td>0.002271</td>\n",
              "      <td>0.300000</td>\n",
              "    </tr>\n",
              "    <tr>\n",
              "      <th>...</th>\n",
              "      <td>...</td>\n",
              "      <td>...</td>\n",
              "      <td>...</td>\n",
              "      <td>...</td>\n",
              "      <td>...</td>\n",
              "    </tr>\n",
              "    <tr>\n",
              "      <th>216</th>\n",
              "      <td>0.752380</td>\n",
              "      <td>0.757742</td>\n",
              "      <td>0.753475</td>\n",
              "      <td>0.118391</td>\n",
              "      <td>0.366667</td>\n",
              "    </tr>\n",
              "    <tr>\n",
              "      <th>217</th>\n",
              "      <td>0.712445</td>\n",
              "      <td>0.731538</td>\n",
              "      <td>0.721764</td>\n",
              "      <td>0.069353</td>\n",
              "      <td>0.343333</td>\n",
              "    </tr>\n",
              "    <tr>\n",
              "      <th>218</th>\n",
              "      <td>0.738496</td>\n",
              "      <td>0.728651</td>\n",
              "      <td>0.711266</td>\n",
              "      <td>0.098246</td>\n",
              "      <td>0.411111</td>\n",
              "    </tr>\n",
              "    <tr>\n",
              "      <th>219</th>\n",
              "      <td>0.720962</td>\n",
              "      <td>0.714935</td>\n",
              "      <td>0.687084</td>\n",
              "      <td>0.109101</td>\n",
              "      <td>0.277778</td>\n",
              "    </tr>\n",
              "    <tr>\n",
              "      <th>220</th>\n",
              "      <td>0.667859</td>\n",
              "      <td>0.690825</td>\n",
              "      <td>0.672314</td>\n",
              "      <td>0.078296</td>\n",
              "      <td>0.754167</td>\n",
              "    </tr>\n",
              "  </tbody>\n",
              "</table>\n",
              "<p>221 rows × 5 columns</p>\n",
              "</div>"
            ],
            "text/plain": [
              "         Open      High       Low    Volume     point\n",
              "0    0.008588  0.000722  0.008978  0.001561  0.166667\n",
              "1    0.021112  0.005053  0.014046  0.003814  0.338889\n",
              "2    0.017892  0.004692  0.015494  0.000000  0.166667\n",
              "3    0.018965  0.010034  0.020200  0.000580  0.125000\n",
              "4    0.024619  0.010395  0.016942  0.002271  0.300000\n",
              "..        ...       ...       ...       ...       ...\n",
              "216  0.752380  0.757742  0.753475  0.118391  0.366667\n",
              "217  0.712445  0.731538  0.721764  0.069353  0.343333\n",
              "218  0.738496  0.728651  0.711266  0.098246  0.411111\n",
              "219  0.720962  0.714935  0.687084  0.109101  0.277778\n",
              "220  0.667859  0.690825  0.672314  0.078296  0.754167\n",
              "\n",
              "[221 rows x 5 columns]"
            ]
          },
          "metadata": {},
          "execution_count": 21
        }
      ]
    },
    {
      "cell_type": "code",
      "metadata": {
        "id": "rv5-1JUy7I2K"
      },
      "source": [
        "import tensorflow as tf"
      ],
      "execution_count": 22,
      "outputs": []
    },
    {
      "cell_type": "code",
      "metadata": {
        "id": "ajHB7dAc7I47"
      },
      "source": [
        "def windowed_dataset(series, window_size, batch_size, shuffle):\n",
        "    series = tf.expand_dims(series, axis=-1)\n",
        "    ds = tf.data.Dataset.from_tensor_slices(series)\n",
        "    ds = ds.window(window_size + 1, shift=1, drop_remainder=True)\n",
        "    ds = ds.flat_map(lambda w: w.batch(window_size + 1))\n",
        "    if shuffle:\n",
        "        ds = ds.shuffle(1000)\n",
        "    ds = ds.map(lambda w: (w[:-1], w[-1]))\n",
        "    return ds.batch(batch_size).prefetch(1)"
      ],
      "execution_count": 23,
      "outputs": []
    },
    {
      "cell_type": "code",
      "metadata": {
        "id": "d46vFayp7I7x"
      },
      "source": [
        "WINDOW_SIZE=30\n",
        "BATCH_SIZE=30"
      ],
      "execution_count": 28,
      "outputs": []
    },
    {
      "cell_type": "code",
      "metadata": {
        "id": "xDb83rZP7I_Q"
      },
      "source": [
        "train_data = windowed_dataset(y_train, WINDOW_SIZE, BATCH_SIZE, True)\n",
        "test_data = windowed_dataset(y_test, WINDOW_SIZE, BATCH_SIZE, False)"
      ],
      "execution_count": 29,
      "outputs": []
    },
    {
      "cell_type": "code",
      "metadata": {
        "colab": {
          "base_uri": "https://localhost:8080/"
        },
        "id": "zVBLQGSzBW0J",
        "outputId": "fa083bf2-495e-45a2-eaef-ba1fc6be90f1"
      },
      "source": [
        "for data in train_data.take(1):\n",
        "    print(f'데이터셋(X) 구성(batch_size, window_size, feature갯수): {data[0].shape}')\n",
        "    print(f'데이터셋(Y) 구성(batch_size, window_size, feature갯수): {data[1].shape}')"
      ],
      "execution_count": 30,
      "outputs": [
        {
          "output_type": "stream",
          "text": [
            "데이터셋(X) 구성(batch_size, window_size, feature갯수): (30, 30, 1)\n",
            "데이터셋(Y) 구성(batch_size, window_size, feature갯수): (30, 1)\n"
          ],
          "name": "stdout"
        }
      ]
    },
    {
      "cell_type": "code",
      "metadata": {
        "id": "Cq1KmxZ0BW2q"
      },
      "source": [
        "from tensorflow.keras.models import Sequential\n",
        "from tensorflow.keras.layers import Dense, LSTM, Conv1D, Lambda\n",
        "from tensorflow.keras.losses import Huber\n",
        "from tensorflow.keras.optimizers import Adam\n",
        "from tensorflow.keras.callbacks import EarlyStopping, ModelCheckpoint\n",
        "\n",
        "\n",
        "model = Sequential([\n",
        "    # 1차원 feature map 생성\n",
        "    Conv1D(filters=32, kernel_size=5,\n",
        "           padding=\"causal\",\n",
        "           activation=\"relu\",\n",
        "           input_shape=[WINDOW_SIZE, 1]),\n",
        "    # LSTM\n",
        "    LSTM(16, activation='tanh'),\n",
        "    Dense(16, activation=\"relu\"),\n",
        "    Dense(1),\n",
        "])"
      ],
      "execution_count": 31,
      "outputs": []
    },
    {
      "cell_type": "code",
      "metadata": {
        "id": "WAmvsG9kBW5F"
      },
      "source": [
        "loss = Huber()\n",
        "optimizer = Adam(0.0005)\n",
        "model.compile(loss=Huber(), optimizer=optimizer, metrics=['mse'])"
      ],
      "execution_count": 32,
      "outputs": []
    },
    {
      "cell_type": "code",
      "metadata": {
        "id": "78ryHYt7Bg7y"
      },
      "source": [
        "# earlystopping은 10번 epoch통안 val_loss 개선이 없다면 학습을 멈춥니다.\n",
        "earlystopping = EarlyStopping(monitor='val_loss', patience=10)\n",
        "# val_loss 기준 체크포인터도 생성합니다.\n",
        "filename = os.path.join('tmp', 'ckeckpointer.ckpt')\n",
        "checkpoint = ModelCheckpoint(filename, \n",
        "                             save_weights_only=True, \n",
        "                             save_best_only=True, \n",
        "                             monitor='val_loss', \n",
        "                             verbose=1)"
      ],
      "execution_count": 33,
      "outputs": []
    },
    {
      "cell_type": "code",
      "metadata": {
        "colab": {
          "base_uri": "https://localhost:8080/"
        },
        "id": "_wN30qg5Bi_K",
        "outputId": "b9831242-b32c-4a2d-fbdc-f5a1e9a5f0aa"
      },
      "source": [
        "history = model.fit(train_data, \n",
        "                    validation_data=(test_data), \n",
        "                    epochs=100, \n",
        "                    callbacks=[checkpoint, earlystopping])"
      ],
      "execution_count": 34,
      "outputs": [
        {
          "output_type": "stream",
          "text": [
            "Epoch 1/100\n",
            "7/7 [==============================] - 3s 109ms/step - loss: 0.1483 - mse: 0.2966 - val_loss: 0.3421 - val_mse: 0.6842\n",
            "\n",
            "Epoch 00001: val_loss improved from inf to 0.34212, saving model to tmp/ckeckpointer.ckpt\n",
            "Epoch 2/100\n",
            "7/7 [==============================] - 0s 22ms/step - loss: 0.1230 - mse: 0.2460 - val_loss: 0.2908 - val_mse: 0.5815\n",
            "\n",
            "Epoch 00002: val_loss improved from 0.34212 to 0.29076, saving model to tmp/ckeckpointer.ckpt\n",
            "Epoch 3/100\n",
            "7/7 [==============================] - 0s 24ms/step - loss: 0.1005 - mse: 0.2010 - val_loss: 0.2401 - val_mse: 0.4801\n",
            "\n",
            "Epoch 00003: val_loss improved from 0.29076 to 0.24007, saving model to tmp/ckeckpointer.ckpt\n",
            "Epoch 4/100\n",
            "7/7 [==============================] - 0s 22ms/step - loss: 0.0800 - mse: 0.1600 - val_loss: 0.1884 - val_mse: 0.3768\n",
            "\n",
            "Epoch 00004: val_loss improved from 0.24007 to 0.18839, saving model to tmp/ckeckpointer.ckpt\n",
            "Epoch 5/100\n",
            "7/7 [==============================] - 0s 23ms/step - loss: 0.0591 - mse: 0.1182 - val_loss: 0.1393 - val_mse: 0.2785\n",
            "\n",
            "Epoch 00005: val_loss improved from 0.18839 to 0.13925, saving model to tmp/ckeckpointer.ckpt\n",
            "Epoch 6/100\n",
            "7/7 [==============================] - 0s 22ms/step - loss: 0.0393 - mse: 0.0787 - val_loss: 0.0902 - val_mse: 0.1805\n",
            "\n",
            "Epoch 00006: val_loss improved from 0.13925 to 0.09025, saving model to tmp/ckeckpointer.ckpt\n",
            "Epoch 7/100\n",
            "7/7 [==============================] - 0s 23ms/step - loss: 0.0221 - mse: 0.0443 - val_loss: 0.0498 - val_mse: 0.0995\n",
            "\n",
            "Epoch 00007: val_loss improved from 0.09025 to 0.04977, saving model to tmp/ckeckpointer.ckpt\n",
            "Epoch 8/100\n",
            "7/7 [==============================] - 0s 22ms/step - loss: 0.0112 - mse: 0.0224 - val_loss: 0.0208 - val_mse: 0.0416\n",
            "\n",
            "Epoch 00008: val_loss improved from 0.04977 to 0.02078, saving model to tmp/ckeckpointer.ckpt\n",
            "Epoch 9/100\n",
            "7/7 [==============================] - 0s 23ms/step - loss: 0.0071 - mse: 0.0143 - val_loss: 0.0069 - val_mse: 0.0138\n",
            "\n",
            "Epoch 00009: val_loss improved from 0.02078 to 0.00688, saving model to tmp/ckeckpointer.ckpt\n",
            "Epoch 10/100\n",
            "7/7 [==============================] - 0s 23ms/step - loss: 0.0072 - mse: 0.0143 - val_loss: 0.0035 - val_mse: 0.0071\n",
            "\n",
            "Epoch 00010: val_loss improved from 0.00688 to 0.00354, saving model to tmp/ckeckpointer.ckpt\n",
            "Epoch 11/100\n",
            "7/7 [==============================] - 0s 23ms/step - loss: 0.0068 - mse: 0.0135 - val_loss: 0.0046 - val_mse: 0.0092\n",
            "\n",
            "Epoch 00011: val_loss did not improve from 0.00354\n",
            "Epoch 12/100\n",
            "7/7 [==============================] - 0s 22ms/step - loss: 0.0056 - mse: 0.0112 - val_loss: 0.0072 - val_mse: 0.0145\n",
            "\n",
            "Epoch 00012: val_loss did not improve from 0.00354\n",
            "Epoch 13/100\n",
            "7/7 [==============================] - 0s 23ms/step - loss: 0.0048 - mse: 0.0096 - val_loss: 0.0076 - val_mse: 0.0152\n",
            "\n",
            "Epoch 00013: val_loss did not improve from 0.00354\n",
            "Epoch 14/100\n",
            "7/7 [==============================] - 0s 24ms/step - loss: 0.0043 - mse: 0.0085 - val_loss: 0.0062 - val_mse: 0.0124\n",
            "\n",
            "Epoch 00014: val_loss did not improve from 0.00354\n",
            "Epoch 15/100\n",
            "7/7 [==============================] - 0s 22ms/step - loss: 0.0037 - mse: 0.0074 - val_loss: 0.0039 - val_mse: 0.0077\n",
            "\n",
            "Epoch 00015: val_loss did not improve from 0.00354\n",
            "Epoch 16/100\n",
            "7/7 [==============================] - 0s 24ms/step - loss: 0.0033 - mse: 0.0066 - val_loss: 0.0022 - val_mse: 0.0043\n",
            "\n",
            "Epoch 00016: val_loss improved from 0.00354 to 0.00216, saving model to tmp/ckeckpointer.ckpt\n",
            "Epoch 17/100\n",
            "7/7 [==============================] - 0s 30ms/step - loss: 0.0030 - mse: 0.0059 - val_loss: 0.0019 - val_mse: 0.0039\n",
            "\n",
            "Epoch 00017: val_loss improved from 0.00216 to 0.00195, saving model to tmp/ckeckpointer.ckpt\n",
            "Epoch 18/100\n",
            "7/7 [==============================] - 0s 23ms/step - loss: 0.0026 - mse: 0.0052 - val_loss: 0.0021 - val_mse: 0.0043\n",
            "\n",
            "Epoch 00018: val_loss did not improve from 0.00195\n",
            "Epoch 19/100\n",
            "7/7 [==============================] - 0s 23ms/step - loss: 0.0024 - mse: 0.0048 - val_loss: 0.0020 - val_mse: 0.0040\n",
            "\n",
            "Epoch 00019: val_loss did not improve from 0.00195\n",
            "Epoch 20/100\n",
            "7/7 [==============================] - 0s 23ms/step - loss: 0.0022 - mse: 0.0044 - val_loss: 0.0012 - val_mse: 0.0023\n",
            "\n",
            "Epoch 00020: val_loss improved from 0.00195 to 0.00117, saving model to tmp/ckeckpointer.ckpt\n",
            "Epoch 21/100\n",
            "7/7 [==============================] - 0s 22ms/step - loss: 0.0021 - mse: 0.0041 - val_loss: 8.8739e-04 - val_mse: 0.0018\n",
            "\n",
            "Epoch 00021: val_loss improved from 0.00117 to 0.00089, saving model to tmp/ckeckpointer.ckpt\n",
            "Epoch 22/100\n",
            "7/7 [==============================] - 0s 24ms/step - loss: 0.0020 - mse: 0.0040 - val_loss: 8.3167e-04 - val_mse: 0.0017\n",
            "\n",
            "Epoch 00022: val_loss improved from 0.00089 to 0.00083, saving model to tmp/ckeckpointer.ckpt\n",
            "Epoch 23/100\n",
            "7/7 [==============================] - 0s 30ms/step - loss: 0.0019 - mse: 0.0039 - val_loss: 8.2757e-04 - val_mse: 0.0017\n",
            "\n",
            "Epoch 00023: val_loss improved from 0.00083 to 0.00083, saving model to tmp/ckeckpointer.ckpt\n",
            "Epoch 24/100\n",
            "7/7 [==============================] - 0s 23ms/step - loss: 0.0019 - mse: 0.0038 - val_loss: 7.6302e-04 - val_mse: 0.0015\n",
            "\n",
            "Epoch 00024: val_loss improved from 0.00083 to 0.00076, saving model to tmp/ckeckpointer.ckpt\n",
            "Epoch 25/100\n",
            "7/7 [==============================] - 0s 23ms/step - loss: 0.0019 - mse: 0.0037 - val_loss: 7.9692e-04 - val_mse: 0.0016\n",
            "\n",
            "Epoch 00025: val_loss did not improve from 0.00076\n",
            "Epoch 26/100\n",
            "7/7 [==============================] - 0s 23ms/step - loss: 0.0018 - mse: 0.0037 - val_loss: 7.6073e-04 - val_mse: 0.0015\n",
            "\n",
            "Epoch 00026: val_loss improved from 0.00076 to 0.00076, saving model to tmp/ckeckpointer.ckpt\n",
            "Epoch 27/100\n",
            "7/7 [==============================] - 0s 23ms/step - loss: 0.0018 - mse: 0.0036 - val_loss: 7.3253e-04 - val_mse: 0.0015\n",
            "\n",
            "Epoch 00027: val_loss improved from 0.00076 to 0.00073, saving model to tmp/ckeckpointer.ckpt\n",
            "Epoch 28/100\n",
            "7/7 [==============================] - 0s 23ms/step - loss: 0.0018 - mse: 0.0036 - val_loss: 7.1668e-04 - val_mse: 0.0014\n",
            "\n",
            "Epoch 00028: val_loss improved from 0.00073 to 0.00072, saving model to tmp/ckeckpointer.ckpt\n",
            "Epoch 29/100\n",
            "7/7 [==============================] - 0s 23ms/step - loss: 0.0018 - mse: 0.0035 - val_loss: 7.1766e-04 - val_mse: 0.0014\n",
            "\n",
            "Epoch 00029: val_loss did not improve from 0.00072\n",
            "Epoch 30/100\n",
            "7/7 [==============================] - 0s 24ms/step - loss: 0.0017 - mse: 0.0035 - val_loss: 7.1829e-04 - val_mse: 0.0014\n",
            "\n",
            "Epoch 00030: val_loss did not improve from 0.00072\n",
            "Epoch 31/100\n",
            "7/7 [==============================] - 0s 22ms/step - loss: 0.0017 - mse: 0.0035 - val_loss: 7.3871e-04 - val_mse: 0.0015\n",
            "\n",
            "Epoch 00031: val_loss did not improve from 0.00072\n",
            "Epoch 32/100\n",
            "7/7 [==============================] - 0s 22ms/step - loss: 0.0017 - mse: 0.0035 - val_loss: 6.8977e-04 - val_mse: 0.0014\n",
            "\n",
            "Epoch 00032: val_loss improved from 0.00072 to 0.00069, saving model to tmp/ckeckpointer.ckpt\n",
            "Epoch 33/100\n",
            "7/7 [==============================] - 0s 22ms/step - loss: 0.0017 - mse: 0.0034 - val_loss: 7.4578e-04 - val_mse: 0.0015\n",
            "\n",
            "Epoch 00033: val_loss did not improve from 0.00069\n",
            "Epoch 34/100\n",
            "7/7 [==============================] - 0s 22ms/step - loss: 0.0017 - mse: 0.0034 - val_loss: 6.9490e-04 - val_mse: 0.0014\n",
            "\n",
            "Epoch 00034: val_loss did not improve from 0.00069\n",
            "Epoch 35/100\n",
            "7/7 [==============================] - 0s 23ms/step - loss: 0.0017 - mse: 0.0034 - val_loss: 6.8935e-04 - val_mse: 0.0014\n",
            "\n",
            "Epoch 00035: val_loss improved from 0.00069 to 0.00069, saving model to tmp/ckeckpointer.ckpt\n",
            "Epoch 36/100\n",
            "7/7 [==============================] - 0s 24ms/step - loss: 0.0017 - mse: 0.0034 - val_loss: 7.6615e-04 - val_mse: 0.0015\n",
            "\n",
            "Epoch 00036: val_loss did not improve from 0.00069\n",
            "Epoch 37/100\n",
            "7/7 [==============================] - 0s 23ms/step - loss: 0.0017 - mse: 0.0033 - val_loss: 6.6232e-04 - val_mse: 0.0013\n",
            "\n",
            "Epoch 00037: val_loss improved from 0.00069 to 0.00066, saving model to tmp/ckeckpointer.ckpt\n",
            "Epoch 38/100\n",
            "7/7 [==============================] - 0s 27ms/step - loss: 0.0016 - mse: 0.0033 - val_loss: 6.7453e-04 - val_mse: 0.0013\n",
            "\n",
            "Epoch 00038: val_loss did not improve from 0.00066\n",
            "Epoch 39/100\n",
            "7/7 [==============================] - 0s 22ms/step - loss: 0.0016 - mse: 0.0033 - val_loss: 7.5843e-04 - val_mse: 0.0015\n",
            "\n",
            "Epoch 00039: val_loss did not improve from 0.00066\n",
            "Epoch 40/100\n",
            "7/7 [==============================] - 0s 23ms/step - loss: 0.0016 - mse: 0.0032 - val_loss: 6.4382e-04 - val_mse: 0.0013\n",
            "\n",
            "Epoch 00040: val_loss improved from 0.00066 to 0.00064, saving model to tmp/ckeckpointer.ckpt\n",
            "Epoch 41/100\n",
            "7/7 [==============================] - 0s 22ms/step - loss: 0.0016 - mse: 0.0032 - val_loss: 6.7859e-04 - val_mse: 0.0014\n",
            "\n",
            "Epoch 00041: val_loss did not improve from 0.00064\n",
            "Epoch 42/100\n",
            "7/7 [==============================] - 0s 22ms/step - loss: 0.0016 - mse: 0.0032 - val_loss: 6.3765e-04 - val_mse: 0.0013\n",
            "\n",
            "Epoch 00042: val_loss improved from 0.00064 to 0.00064, saving model to tmp/ckeckpointer.ckpt\n",
            "Epoch 43/100\n",
            "7/7 [==============================] - 0s 24ms/step - loss: 0.0016 - mse: 0.0031 - val_loss: 6.7486e-04 - val_mse: 0.0013\n",
            "\n",
            "Epoch 00043: val_loss did not improve from 0.00064\n",
            "Epoch 44/100\n",
            "7/7 [==============================] - 0s 23ms/step - loss: 0.0016 - mse: 0.0031 - val_loss: 6.7870e-04 - val_mse: 0.0014\n",
            "\n",
            "Epoch 00044: val_loss did not improve from 0.00064\n",
            "Epoch 45/100\n",
            "7/7 [==============================] - 0s 23ms/step - loss: 0.0015 - mse: 0.0031 - val_loss: 8.1164e-04 - val_mse: 0.0016\n",
            "\n",
            "Epoch 00045: val_loss did not improve from 0.00064\n",
            "Epoch 46/100\n",
            "7/7 [==============================] - 0s 22ms/step - loss: 0.0016 - mse: 0.0032 - val_loss: 6.1360e-04 - val_mse: 0.0012\n",
            "\n",
            "Epoch 00046: val_loss improved from 0.00064 to 0.00061, saving model to tmp/ckeckpointer.ckpt\n",
            "Epoch 47/100\n",
            "7/7 [==============================] - 0s 23ms/step - loss: 0.0015 - mse: 0.0030 - val_loss: 6.7592e-04 - val_mse: 0.0014\n",
            "\n",
            "Epoch 00047: val_loss did not improve from 0.00061\n",
            "Epoch 48/100\n",
            "7/7 [==============================] - 0s 22ms/step - loss: 0.0015 - mse: 0.0031 - val_loss: 7.4262e-04 - val_mse: 0.0015\n",
            "\n",
            "Epoch 00048: val_loss did not improve from 0.00061\n",
            "Epoch 49/100\n",
            "7/7 [==============================] - 0s 27ms/step - loss: 0.0015 - mse: 0.0030 - val_loss: 5.9103e-04 - val_mse: 0.0012\n",
            "\n",
            "Epoch 00049: val_loss improved from 0.00061 to 0.00059, saving model to tmp/ckeckpointer.ckpt\n",
            "Epoch 50/100\n",
            "7/7 [==============================] - 0s 22ms/step - loss: 0.0015 - mse: 0.0030 - val_loss: 6.3377e-04 - val_mse: 0.0013\n",
            "\n",
            "Epoch 00050: val_loss did not improve from 0.00059\n",
            "Epoch 51/100\n",
            "7/7 [==============================] - 0s 24ms/step - loss: 0.0015 - mse: 0.0029 - val_loss: 6.3531e-04 - val_mse: 0.0013\n",
            "\n",
            "Epoch 00051: val_loss did not improve from 0.00059\n",
            "Epoch 52/100\n",
            "7/7 [==============================] - 0s 23ms/step - loss: 0.0014 - mse: 0.0029 - val_loss: 6.4863e-04 - val_mse: 0.0013\n",
            "\n",
            "Epoch 00052: val_loss did not improve from 0.00059\n",
            "Epoch 53/100\n",
            "7/7 [==============================] - 0s 24ms/step - loss: 0.0014 - mse: 0.0029 - val_loss: 6.5002e-04 - val_mse: 0.0013\n",
            "\n",
            "Epoch 00053: val_loss did not improve from 0.00059\n",
            "Epoch 54/100\n",
            "7/7 [==============================] - 0s 22ms/step - loss: 0.0014 - mse: 0.0028 - val_loss: 6.5726e-04 - val_mse: 0.0013\n",
            "\n",
            "Epoch 00054: val_loss did not improve from 0.00059\n",
            "Epoch 55/100\n",
            "7/7 [==============================] - 0s 23ms/step - loss: 0.0014 - mse: 0.0028 - val_loss: 5.7112e-04 - val_mse: 0.0011\n",
            "\n",
            "Epoch 00055: val_loss improved from 0.00059 to 0.00057, saving model to tmp/ckeckpointer.ckpt\n",
            "Epoch 56/100\n",
            "7/7 [==============================] - 0s 23ms/step - loss: 0.0014 - mse: 0.0028 - val_loss: 5.9853e-04 - val_mse: 0.0012\n",
            "\n",
            "Epoch 00056: val_loss did not improve from 0.00057\n",
            "Epoch 57/100\n",
            "7/7 [==============================] - 0s 30ms/step - loss: 0.0014 - mse: 0.0028 - val_loss: 8.7155e-04 - val_mse: 0.0017\n",
            "\n",
            "Epoch 00057: val_loss did not improve from 0.00057\n",
            "Epoch 58/100\n",
            "7/7 [==============================] - 0s 22ms/step - loss: 0.0014 - mse: 0.0028 - val_loss: 5.5526e-04 - val_mse: 0.0011\n",
            "\n",
            "Epoch 00058: val_loss improved from 0.00057 to 0.00056, saving model to tmp/ckeckpointer.ckpt\n",
            "Epoch 59/100\n",
            "7/7 [==============================] - 0s 23ms/step - loss: 0.0014 - mse: 0.0028 - val_loss: 8.5485e-04 - val_mse: 0.0017\n",
            "\n",
            "Epoch 00059: val_loss did not improve from 0.00056\n",
            "Epoch 60/100\n",
            "7/7 [==============================] - 0s 30ms/step - loss: 0.0014 - mse: 0.0027 - val_loss: 5.5004e-04 - val_mse: 0.0011\n",
            "\n",
            "Epoch 00060: val_loss improved from 0.00056 to 0.00055, saving model to tmp/ckeckpointer.ckpt\n",
            "Epoch 61/100\n",
            "7/7 [==============================] - 0s 24ms/step - loss: 0.0013 - mse: 0.0026 - val_loss: 7.3059e-04 - val_mse: 0.0015\n",
            "\n",
            "Epoch 00061: val_loss did not improve from 0.00055\n",
            "Epoch 62/100\n",
            "7/7 [==============================] - 0s 24ms/step - loss: 0.0013 - mse: 0.0026 - val_loss: 5.9436e-04 - val_mse: 0.0012\n",
            "\n",
            "Epoch 00062: val_loss did not improve from 0.00055\n",
            "Epoch 63/100\n",
            "7/7 [==============================] - 0s 25ms/step - loss: 0.0013 - mse: 0.0026 - val_loss: 5.7541e-04 - val_mse: 0.0012\n",
            "\n",
            "Epoch 00063: val_loss did not improve from 0.00055\n",
            "Epoch 64/100\n",
            "7/7 [==============================] - 0s 27ms/step - loss: 0.0013 - mse: 0.0025 - val_loss: 6.2620e-04 - val_mse: 0.0013\n",
            "\n",
            "Epoch 00064: val_loss did not improve from 0.00055\n",
            "Epoch 65/100\n",
            "7/7 [==============================] - 0s 24ms/step - loss: 0.0013 - mse: 0.0025 - val_loss: 6.5087e-04 - val_mse: 0.0013\n",
            "\n",
            "Epoch 00065: val_loss did not improve from 0.00055\n",
            "Epoch 66/100\n",
            "7/7 [==============================] - 0s 24ms/step - loss: 0.0013 - mse: 0.0025 - val_loss: 4.5410e-04 - val_mse: 9.0820e-04\n",
            "\n",
            "Epoch 00066: val_loss improved from 0.00055 to 0.00045, saving model to tmp/ckeckpointer.ckpt\n",
            "Epoch 67/100\n",
            "7/7 [==============================] - 0s 24ms/step - loss: 0.0012 - mse: 0.0025 - val_loss: 7.6506e-04 - val_mse: 0.0015\n",
            "\n",
            "Epoch 00067: val_loss did not improve from 0.00045\n",
            "Epoch 68/100\n",
            "7/7 [==============================] - 0s 25ms/step - loss: 0.0012 - mse: 0.0024 - val_loss: 6.5334e-04 - val_mse: 0.0013\n",
            "\n",
            "Epoch 00068: val_loss did not improve from 0.00045\n",
            "Epoch 69/100\n",
            "7/7 [==============================] - 0s 22ms/step - loss: 0.0012 - mse: 0.0024 - val_loss: 4.9101e-04 - val_mse: 9.8201e-04\n",
            "\n",
            "Epoch 00069: val_loss did not improve from 0.00045\n",
            "Epoch 70/100\n",
            "7/7 [==============================] - 0s 23ms/step - loss: 0.0012 - mse: 0.0024 - val_loss: 5.6669e-04 - val_mse: 0.0011\n",
            "\n",
            "Epoch 00070: val_loss did not improve from 0.00045\n",
            "Epoch 71/100\n",
            "7/7 [==============================] - 0s 31ms/step - loss: 0.0012 - mse: 0.0024 - val_loss: 8.3686e-04 - val_mse: 0.0017\n",
            "\n",
            "Epoch 00071: val_loss did not improve from 0.00045\n",
            "Epoch 72/100\n",
            "7/7 [==============================] - 0s 24ms/step - loss: 0.0012 - mse: 0.0023 - val_loss: 4.8139e-04 - val_mse: 9.6278e-04\n",
            "\n",
            "Epoch 00072: val_loss did not improve from 0.00045\n",
            "Epoch 73/100\n",
            "7/7 [==============================] - 0s 23ms/step - loss: 0.0011 - mse: 0.0023 - val_loss: 6.4516e-04 - val_mse: 0.0013\n",
            "\n",
            "Epoch 00073: val_loss did not improve from 0.00045\n",
            "Epoch 74/100\n",
            "7/7 [==============================] - 0s 22ms/step - loss: 0.0011 - mse: 0.0023 - val_loss: 7.1295e-04 - val_mse: 0.0014\n",
            "\n",
            "Epoch 00074: val_loss did not improve from 0.00045\n",
            "Epoch 75/100\n",
            "7/7 [==============================] - 0s 30ms/step - loss: 0.0011 - mse: 0.0023 - val_loss: 8.5712e-04 - val_mse: 0.0017\n",
            "\n",
            "Epoch 00075: val_loss did not improve from 0.00045\n",
            "Epoch 76/100\n",
            "7/7 [==============================] - 0s 24ms/step - loss: 0.0011 - mse: 0.0022 - val_loss: 5.2665e-04 - val_mse: 0.0011\n",
            "\n",
            "Epoch 00076: val_loss did not improve from 0.00045\n"
          ],
          "name": "stdout"
        }
      ]
    },
    {
      "cell_type": "code",
      "metadata": {
        "colab": {
          "base_uri": "https://localhost:8080/"
        },
        "id": "4IbFZI0lBg-1",
        "outputId": "d271e22f-6d95-4c28-fc3d-5cf489b6ae95"
      },
      "source": [
        "model.load_weights(filename)"
      ],
      "execution_count": 35,
      "outputs": [
        {
          "output_type": "execute_result",
          "data": {
            "text/plain": [
              "<tensorflow.python.training.tracking.util.CheckpointLoadStatus at 0x7f3330250690>"
            ]
          },
          "metadata": {},
          "execution_count": 35
        }
      ]
    },
    {
      "cell_type": "code",
      "metadata": {
        "colab": {
          "base_uri": "https://localhost:8080/"
        },
        "id": "JLe1RirEBhBs",
        "outputId": "e3d29461-175f-4baa-feb7-ea3b21f7f60b"
      },
      "source": [
        "pred = model.predict(test_data)\n",
        "pred.shape"
      ],
      "execution_count": 36,
      "outputs": [
        {
          "output_type": "execute_result",
          "data": {
            "text/plain": [
              "(65, 1)"
            ]
          },
          "metadata": {},
          "execution_count": 36
        }
      ]
    },
    {
      "cell_type": "code",
      "metadata": {
        "colab": {
          "base_uri": "https://localhost:8080/",
          "height": 265
        },
        "id": "j51Xcb1fBzQL",
        "outputId": "0a629b70-b3e3-49a1-f69b-9672b18bd44d"
      },
      "source": [
        "plt.figure(figsize=(12, 4))\n",
        "plt.plot(np.asarray(y_test)[30:], label='actual')\n",
        "plt.plot(pred, label='prediction')\n",
        "plt.legend()\n",
        "plt.show()"
      ],
      "execution_count": 37,
      "outputs": [
        {
          "output_type": "display_data",
          "data": {
            "image/png": "[encoded data removed]",
            "text/plain": [
              "<Figure size 864x288 with 1 Axes>"
            ]
          },
          "metadata": {
            "needs_background": "light"
          }
        }
      ]
    }
  ]
}